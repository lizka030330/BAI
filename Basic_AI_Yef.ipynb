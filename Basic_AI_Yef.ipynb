{
  "cells": [
    {
      "cell_type": "markdown",
      "metadata": {
        "id": "fQcvdlwdimQb"
      },
      "source": [
        "**Оцінювання даної роботи буде ураховувати якість Вашого коду та текстових відповідей. При наявності ЛИШЕ коду , робота оцінюватися НЕ БУДЕ.**  \n",
        "\n",
        "**Оформлення текстових відповідей повинно проводитися в текстових комірках ноутбука з використанням синтаксису [LaTeX](https://en.wikibooks.org/wiki/LaTeX/Basics) для оформлення тексту та формул.**\n",
        "\n",
        "**Роботи ідентифіковані як ІДЕНТИЧНІ одразу отримують 0 балів.**\n",
        "\n",
        "**При реалізації завдань потрібно використовувати методи з бібліотеки numpy та pandas.**\n",
        "\n",
        "**Рішення з циклами будуть оцінені в 0 балів.**"
      ]
    },
    {
      "cell_type": "markdown",
      "metadata": {
        "id": "UfI7FZudfGwv"
      },
      "source": [
        "# I. NumPy."
      ]
    },
    {
      "cell_type": "markdown",
      "metadata": {
        "id": "XmA3PWg8fJxn"
      },
      "source": [
        "0. Імпортувати numpy загальноприйнятим способом."
      ]
    },
    {
      "cell_type": "code",
      "execution_count": 2,
      "metadata": {
        "id": "JUli5tR8eTXG"
      },
      "outputs": [],
      "source": [
        "import numpy as np"
      ]
    },
    {
      "cell_type": "markdown",
      "metadata": {
        "id": "fppWPwoFjTrl"
      },
      "source": [
        "1. Визначити список з оцінками студента(ки) за семестр. Використовуючи його, створити одновимірний масив numpy."
      ]
    },
    {
      "cell_type": "code",
      "execution_count": null,
      "metadata": {
        "id": "cuvs9lNAjVoB"
      },
      "outputs": [
        {
          "name": "stdout",
          "output_type": "stream",
          "text": [
            "[ 96 100 100  69  78  95  92  89]\n"
          ]
        }
      ],
      "source": [
        "grades = [96, 100, 100, 69, 78, 95, 92, 89, 92, 88,]\n",
        "grades_array = np.array(grades)\n",
        "print(grades_array)"
      ]
    },
    {
      "cell_type": "markdown",
      "metadata": {
        "id": "OGeLtAwcjcMB"
      },
      "source": [
        "2. Визначити список зі списками, де кожен рядок списку формально означає магазин, а кожна колонка - певний продукт (батон, яйця першої категорії, молоко та ковбаса), а елементами на пересічі є ціни на ці продукти відповідно. Використовуючи цей список, створити матрицю (двовимірний масив) numpy."
      ]
    },
    {
      "cell_type": "code",
      "execution_count": null,
      "metadata": {
        "id": "zJ9kEAv5jcVo"
      },
      "outputs": [],
      "source": [
        "product_prices = [\n",
        "    [47, 21, 29, 98], \n",
        "    [23, 35, 98, 99], \n",
        "    [76, 96, 12, 17]  \n",
        "]\n",
        "\n",
        "matrix = np.array(product_prices)\n",
        "print(matrix)"
      ]
    },
    {
      "cell_type": "markdown",
      "metadata": {
        "id": "wK7wrEw2jcix"
      },
      "source": [
        "3. Отримайте тип даних значень з масивів завдань 2 та 3. Виведіть їх на екран."
      ]
    },
    {
      "cell_type": "code",
      "execution_count": null,
      "metadata": {
        "id": "uDBL1x6vjcq9"
      },
      "outputs": [],
      "source": [
        "grades = [96, 100, 100, 69, 78, 95, 92, 89, 92, 88]\n",
        "array = np.array(grades)\n",
        "print(array)\n",
        "\n",
        "product_prices = [\n",
        "    [47, 21, 29, 98], \n",
        "    [23, 35, 98, 99], \n",
        "    [76, 96, 12, 17]  \n",
        "]\n",
        "\n",
        "matrix = np.array(product_prices)\n",
        "print(matrix)\n",
        "\n",
        "print(array.dtype)\n",
        "print(matrix.dtype)"
      ]
    },
    {
      "cell_type": "markdown",
      "metadata": {
        "id": "nNhAgsC3jcyp"
      },
      "source": [
        "4. Отримайте форми (кортеж з кількістю рядків та колонок) масивів завдань 2 та 3. Виведіть їх на екран."
      ]
    },
    {
      "cell_type": "code",
      "execution_count": null,
      "metadata": {
        "id": "Fi5oXTI8jc4-"
      },
      "outputs": [],
      "source": [
        "grades = [96, 100, 100, 69, 78, 95, 92, 89, 92, 88]\n",
        "array = np.array(grades)\n",
        "print(array)\n",
        "\n",
        "product_prices = [\n",
        "    [47, 21, 29, 98], \n",
        "    [23, 35, 98, 99], \n",
        "    [76, 96, 12, 17]  \n",
        "]\n",
        "\n",
        "matrix = np.array(product_prices)\n",
        "print(matrix)\n",
        "\n",
        "print(array.shape)\n",
        "print(matrix.shape)"
      ]
    },
    {
      "cell_type": "markdown",
      "metadata": {
        "id": "bpY-N8QZjdW-"
      },
      "source": [
        "5. Створіть одновимірний масив за допомогою спеціальної функції numpy, який би відображав динаміку стабільно зростаючого (з рівними проміжками) прибутку з продажів  за тиждень, де у перший день не було продажів, а в останній день тижня вдалося заробити 1000 грн 50 коп."
      ]
    },
    {
      "cell_type": "code",
      "execution_count": null,
      "metadata": {
        "id": "r3LcjnUKjdeu"
      },
      "outputs": [],
      "source": [
        "days = 7\n",
        "start_profit = 0\n",
        "end_profit = 1000.50\n",
        "\n",
        "profit_array = np.linspace(start_profit, end_profit, days)\n",
        "print(profit_array)"
      ]
    },
    {
      "cell_type": "markdown",
      "metadata": {
        "id": "zQM0SY9jjebO"
      },
      "source": [
        "6. Створіть два масиви. Використовуючи їх, продемонструйте відмінність вертикального та горизонтального обʼєднання масивів."
      ]
    },
    {
      "cell_type": "code",
      "execution_count": null,
      "metadata": {
        "id": "8uoi0_lxjeh-"
      },
      "outputs": [],
      "source": [
        "array_one = np.array([[51, 52, 58], [49, 53, 60]])\n",
        "array_two = np.array([[18, 84, 91], [14, 91, 16]])\n",
        "\n",
        "horizontical = np.hstack((array_one, array_two))\n",
        "\n",
        "vertical= np.vstack((array_one, array_two))\n",
        "\n",
        "print(array_one)\n",
        "print(array_two)\n",
        "print(horizontical)\n",
        "print(vertical)"
      ]
    },
    {
      "cell_type": "markdown",
      "metadata": {
        "id": "Fwh5D1pDm3t7"
      },
      "source": [
        "7. Визначити функцію, яка приймає на вході масив і транспонує його. Скористайтесь методом reshape. І не забудьте почати з docstrings."
      ]
    },
    {
      "cell_type": "code",
      "execution_count": null,
      "metadata": {
        "id": "FSWZq0mkm31Z"
      },
      "outputs": [],
      "source": [
        "def transp_array(arr):\n",
        "    return arr.reshape(arr.shape[1], arr.shape[0])\n",
        "matrix = np.array([[10, 27, 33], [41, 57, 64]])\n",
        "transp_matrix = transp_array(matrix)\n",
        "\n",
        "print(matrix)\n",
        "print(transp_matrix)"
      ]
    },
    {
      "cell_type": "markdown",
      "metadata": {
        "id": "Nnxk8vqYm379"
      },
      "source": [
        "8. Створіть два масиви. Використовучи ці масиви, продемонструйте 1) операцію по-елементного додавання, 2) операцію по-елементного віднімання, 3) множення масиву на число, 4) операцію по-елементного множення, і 5) матричного множення."
      ]
    },
    {
      "cell_type": "code",
      "execution_count": null,
      "metadata": {
        "id": "qO1rfvmVm4BI"
      },
      "outputs": [
        {
          "name": "stdout",
          "output_type": "stream",
          "text": [
            "[[15  9]\n",
            " [22 45]]\n",
            "[[57 61]\n",
            " [77  9]]\n"
          ]
        }
      ],
      "source": [
        "array_one = np.array([[15, 9], [22, 45]])\n",
        "array_two = np.array([[57, 61], [77, 9]])\n",
        "\n",
        "add = array_one + array_two\n",
        "sub = array_one - array_two\n",
        "scalar_multip = array_one * 2\n",
        "element_multip = array_one * array_two\n",
        "matrix = np.dot(array_one, array_two)\n",
        "\n",
        "print(array_one)\n",
        "print(array_two)\n",
        "print(add)\n",
        "print(sub)\n",
        "print(scalar_multip)\n",
        "print(element_multip)\n",
        "print(matrix)"
      ]
    },
    {
      "cell_type": "markdown",
      "metadata": {
        "id": "7aGdszTGuMCC"
      },
      "source": [
        "9. Створіть двовимірний масив (матрицю) та розрахуйте: 1) мінімальне число, 2) максимальне число, 3) суму чисел, 4) мінімальні числа для кожного рядка, 5) максимальні числа для кожного стовпчика."
      ]
    },
    {
      "cell_type": "code",
      "execution_count": 11,
      "metadata": {
        "id": "RL_39YdauMKS"
      },
      "outputs": [
        {
          "name": "stdout",
          "output_type": "stream",
          "text": [
            "[[1548  996]\n",
            " [4719 1747]]\n",
            "1\n",
            "8\n",
            "34\n",
            "[2 4 1]\n",
            "[8 5 4]\n"
          ]
        }
      ],
      "source": [
        "Array = np.array([\n",
        "    [8, 2, 3],\n",
        "    [6, 5, 4],\n",
        "    [2, 3, 1]\n",
        "])\n",
        "\n",
        "min = np.min(Array)\n",
        "max = np.max(Array)\n",
        "sum = np.sum(Array)\n",
        "row_min = np.min(Array, axis=1)\n",
        "colum_max= np.max(Array, axis=0)\n",
        "\n",
        "print(matrix)\n",
        "print(min)\n",
        "print(max)\n",
        "print(sum)\n",
        "print(row_min)\n",
        "print(colum_max)"
      ]
    },
    {
      "cell_type": "markdown",
      "metadata": {
        "id": "c_hNdOpjHRFo"
      },
      "source": [
        "10. Створіть матрицю , де деякі елементи повторюються. Знайдіть унікальні значення елементів цієї матриці та їхні частоти."
      ]
    },
    {
      "cell_type": "code",
      "execution_count": 12,
      "metadata": {},
      "outputs": [
        {
          "name": "stdout",
          "output_type": "stream",
          "text": [
            "[1 2 3 7]\n",
            "[3 2 2 2]\n"
          ]
        }
      ],
      "source": [
        "Array = np.array([\n",
        "    [1, 1, 3],\n",
        "    [7, 2, 7],\n",
        "    [3, 2, 1]\n",
        "])\n",
        "\n",
        "unique, frequencies = np.unique(Array, return_counts=True)\n",
        "\n",
        "print(unique)\n",
        "print(frequencies)"
      ]
    },
    {
      "cell_type": "markdown",
      "metadata": {
        "id": "Usj7tyjnprEV"
      },
      "source": [
        "# II. Importing. Creating DF"
      ]
    },
    {
      "cell_type": "markdown",
      "metadata": {
        "id": "ePGNrYa6pxRY"
      },
      "source": [
        "0. Імпортувати бібліотеку pandas"
      ]
    },
    {
      "cell_type": "code",
      "execution_count": 13,
      "metadata": {
        "id": "KIPDNBqQpvkI"
      },
      "outputs": [],
      "source": [
        "import pandas as pd"
      ]
    },
    {
      "cell_type": "markdown",
      "metadata": {
        "id": "8g9-hgi5qWJv"
      },
      "source": [
        "11. Створити тестовий датафрейм зі списку, що містить записи пацієнтів про їхні прізвища, імена, дату народження, масу тіла та наявність медичного страхування. Одне зі значень зробить пустим. Ознайомтесь з типом кожної колонки."
      ]
    },
    {
      "cell_type": "code",
      "execution_count": 17,
      "metadata": {
        "id": "OvA4GvJ5qYb1"
      },
      "outputs": [
        {
          "name": "stdout",
          "output_type": "stream",
          "text": [
            "  last_name first_name  birth_date  weight  insurance\n",
            "0     Богач       Іван  2012-05-17    78.5       True\n",
            "1     Сидор      Назар  2022-08-25    65.0      False\n",
            "2      Клим      Роман  2005-11-03    79.3       True\n",
            "3      Оліх       Анна  2006-02-14     NaN      False\n",
            "last_name      object\n",
            "first_name     object\n",
            "birth_date     object\n",
            "weight        float64\n",
            "insurance        bool\n",
            "dtype: object\n"
          ]
        }
      ],
      "source": [
        "dataframe = [\n",
        "    {'last_name':\"Богач\",'first_name':  \"Іван\", 'birth_date':\"2012-05-17\",'weight': 78.5, 'insurance':True},\n",
        "    {'last_name':\"Сидор\",'first_name':  \"Назар\",'birth_date': \"2022-08-25\", 'weight':65.0, 'insurance':False},\n",
        "    {'last_name':\"Клим\", 'first_name': \"Роман\", 'birth_date':\"2005-11-03\", 'weight':79.3, 'insurance':True}, \n",
        "    {'last_name':\"Оліх\", 'first_name': \"Анна\", 'birth_date':\"2006-02-14\", 'weight':None, 'insurance':False}\n",
        "]\n",
        "\n",
        "df = pd.DataFrame(dataframe)\n",
        "print(df)\n",
        "print(df.dtypes)\n"
      ]
    },
    {
      "cell_type": "markdown",
      "metadata": {
        "id": "b1SvVHjjqcv-"
      },
      "source": [
        "# III. Reading from file"
      ]
    },
    {
      "cell_type": "markdown",
      "metadata": {
        "id": "7HhZWLs_qhgq"
      },
      "source": [
        "12. Завантажити файл missile_attacks_daily.csv з [Kaggle](https://www.kaggle.com/datasets/piterfm/massive-missile-attacks-on-ukraine?select=missile_attacks_daily.csv). Ознайомитись з описом датасету. Додати файл до папки поточної сесії colab notebook на панелі ліворуч або на гугл диск (локально до проєкту, якщо працюєте у пайчармі). Зчитати датафрейм з файлу та вивести датафрейм на екран. Зверніть увагу на те, щоб всі колонки відповідали наведеним у описі типам даних."
      ]
    },
    {
      "cell_type": "code",
      "execution_count": null,
      "metadata": {
        "id": "oQcB3kIqqg0h"
      },
      "outputs": [],
      "source": [
        "df = pd.read_csv('missile_attacks_daily.csv')\n",
        "\n",
        "print(df.head())\n",
        "print(df.dtypes)"
      ]
    },
    {
      "cell_type": "markdown",
      "metadata": {
        "id": "89zu0WNErzd2"
      },
      "source": [
        "# IV. Data understanding"
      ]
    },
    {
      "cell_type": "markdown",
      "metadata": {
        "id": "LJqrTfHr2d1G"
      },
      "source": [
        "13. Виведіть на екран перші 10 рядків зчитаного датафрейму."
      ]
    },
    {
      "cell_type": "code",
      "execution_count": null,
      "metadata": {
        "id": "GdVE9WYwr1sD"
      },
      "outputs": [],
      "source": [
        "df.head(10)"
      ]
    },
    {
      "cell_type": "markdown",
      "metadata": {
        "id": "1PtkLHWj2lq0"
      },
      "source": [
        "14. Отримайте інформацію про форму датафрейму."
      ]
    },
    {
      "cell_type": "code",
      "execution_count": null,
      "metadata": {
        "id": "CBPTYTjV2mtG"
      },
      "outputs": [],
      "source": [
        "df.shape()"
      ]
    },
    {
      "cell_type": "markdown",
      "metadata": {
        "id": "GDVcFC6F2yVz"
      },
      "source": [
        "15. Отримайте дані про кожну колонку з її назвою, типом даних та кількістю непустих значень."
      ]
    },
    {
      "cell_type": "code",
      "execution_count": null,
      "metadata": {
        "id": "GTRgfKJ920bn"
      },
      "outputs": [],
      "source": [
        "df.info()"
      ]
    },
    {
      "cell_type": "markdown",
      "metadata": {
        "id": "DEy-hgsw2452"
      },
      "source": [
        "16. Отримайте статистику для колонок числового типу."
      ]
    },
    {
      "cell_type": "code",
      "execution_count": null,
      "metadata": {
        "id": "94mI2N9t267Q"
      },
      "outputs": [],
      "source": [
        "df.describe()"
      ]
    },
    {
      "cell_type": "markdown",
      "metadata": {
        "id": "n0MGJU2C2-iD"
      },
      "source": [
        "17. Отримати кількість унікальних значень у кожній колонці. Вивести на екран значення та кількість цих значень у колонці, яка має найменше унікальних значень."
      ]
    },
    {
      "cell_type": "code",
      "execution_count": null,
      "metadata": {
        "id": "lQh_jdGe3BK5"
      },
      "outputs": [],
      "source": [
        "unique = df.nunique()\n",
        "fewest_unique = unique.idxmin()\n",
        "counts = df[fewest_unique].counts()\n",
        "\n",
        "print(fewest_unique)\n",
        "print(counts)"
      ]
    },
    {
      "cell_type": "markdown",
      "metadata": {
        "id": "iVRkzUti3uC_"
      },
      "source": [
        "18. На основі отриманої інформації про датасет вище, опишіть по пунктах, що б ви виправили або на що б звернули увагу на кроці очищення даних і чому?"
      ]
    },
    {
      "cell_type": "code",
      "execution_count": null,
      "metadata": {},
      "outputs": [],
      "source": []
    },
    {
      "cell_type": "markdown",
      "metadata": {
        "id": "9_Q-Fcuo30zY"
      },
      "source": [
        "**місце для текстової відповіді**\n",
        "\n",
        "1.   Пункт списку\n",
        "2.   Пункт списку\n",
        "\n",
        "...\n"
      ]
    },
    {
      "cell_type": "markdown",
      "metadata": {
        "id": "Ue9ECz5-3_pq"
      },
      "source": [
        "# V. Data Cleaning"
      ]
    },
    {
      "cell_type": "markdown",
      "metadata": {
        "id": "ZtHUiSrV4CL-"
      },
      "source": [
        "19. Перетворити колонку launched у цілочислену (Int64). Перевірити, чи все пройшло, як очікувалось."
      ]
    },
    {
      "cell_type": "code",
      "execution_count": null,
      "metadata": {
        "id": "AWyo_-Un3xqz"
      },
      "outputs": [],
      "source": [
        "df['launched'] = df['launched'].astype('Int64')\n",
        "\n",
        "print(df['launched'].dtype)\n",
        "\n",
        "print(df['launched'].head())"
      ]
    },
    {
      "cell_type": "markdown",
      "metadata": {
        "id": "KsHhM4EM4O3d"
      },
      "source": [
        "20. Видалити колонки, де кількість непустих значень становить менше 30% від загальної кількості записів."
      ]
    },
    {
      "cell_type": "code",
      "execution_count": 23,
      "metadata": {
        "id": "Z1ZCclle4Vyk"
      },
      "outputs": [
        {
          "name": "stdout",
          "output_type": "stream",
          "text": [
            "<class 'pandas.core.frame.DataFrame'>\n",
            "RangeIndex: 4 entries, 0 to 3\n",
            "Data columns (total 5 columns):\n",
            " #   Column      Non-Null Count  Dtype  \n",
            "---  ------      --------------  -----  \n",
            " 0   last_name   4 non-null      object \n",
            " 1   first_name  4 non-null      object \n",
            " 2   birth_date  4 non-null      object \n",
            " 3   weight      3 non-null      float64\n",
            " 4   insurance   4 non-null      bool   \n",
            "dtypes: bool(1), float64(1), object(3)\n",
            "memory usage: 264.0+ bytes\n",
            "None\n"
          ]
        }
      ],
      "source": [
        "drop = 0.3 * len(df) \n",
        "\n",
        "clean = df.dropna(thresh=drop, axis=1)\n",
        "\n",
        "print(clean.info())"
      ]
    },
    {
      "cell_type": "markdown",
      "metadata": {
        "id": "p8cD0M0U4cNT"
      },
      "source": [
        "21. Очистити датафрейм від дублікатів (дублюючихся рядків) та записів, де атака продовжувалась відʼємну або нульову кількість часу (що фізично неможливо). Не забудьте оновити індекс. Скільки рядків було видалено? Як ви це перевірили у коді?"
      ]
    },
    {
      "cell_type": "code",
      "execution_count": null,
      "metadata": {
        "id": "in3Fvn0I4l-I"
      },
      "outputs": [],
      "source": []
    },
    {
      "cell_type": "markdown",
      "metadata": {
        "id": "8zqL82Ie4nqY"
      },
      "source": [
        "**місце для текстової відповіді**"
      ]
    },
    {
      "cell_type": "code",
      "execution_count": null,
      "metadata": {
        "id": "GoHlOjXj4sIw"
      },
      "outputs": [],
      "source": []
    },
    {
      "cell_type": "markdown",
      "metadata": {
        "id": "6oZ7C_ry4uvb"
      },
      "source": [
        "22. Виведіть на екран всі рядки, де є хоч одне пропущене значення."
      ]
    },
    {
      "cell_type": "code",
      "execution_count": 30,
      "metadata": {
        "id": "BPmCTDtg4wVS"
      },
      "outputs": [
        {
          "data": {
            "text/html": [
              "<div>\n",
              "<style scoped>\n",
              "    .dataframe tbody tr th:only-of-type {\n",
              "        vertical-align: middle;\n",
              "    }\n",
              "\n",
              "    .dataframe tbody tr th {\n",
              "        vertical-align: top;\n",
              "    }\n",
              "\n",
              "    .dataframe thead th {\n",
              "        text-align: right;\n",
              "    }\n",
              "</style>\n",
              "<table border=\"1\" class=\"dataframe\">\n",
              "  <thead>\n",
              "    <tr style=\"text-align: right;\">\n",
              "      <th></th>\n",
              "      <th>last_name</th>\n",
              "      <th>first_name</th>\n",
              "      <th>birth_date</th>\n",
              "      <th>weight</th>\n",
              "      <th>insurance</th>\n",
              "    </tr>\n",
              "  </thead>\n",
              "  <tbody>\n",
              "    <tr>\n",
              "      <th>3</th>\n",
              "      <td>Оліх</td>\n",
              "      <td>Анна</td>\n",
              "      <td>2006-02-14</td>\n",
              "      <td>NaN</td>\n",
              "      <td>False</td>\n",
              "    </tr>\n",
              "  </tbody>\n",
              "</table>\n",
              "</div>"
            ],
            "text/plain": [
              "  last_name first_name  birth_date  weight  insurance\n",
              "3      Оліх       Анна  2006-02-14     NaN      False"
            ]
          },
          "execution_count": 30,
          "metadata": {},
          "output_type": "execute_result"
        }
      ],
      "source": [
        "df[df.isnull().any(axis=1)]"
      ]
    }
  ],
  "metadata": {
    "colab": {
      "collapsed_sections": [
        "dwSyU2AjXwc-"
      ],
      "provenance": []
    },
    "kernelspec": {
      "display_name": "Python 3",
      "name": "python3"
    },
    "language_info": {
      "codemirror_mode": {
        "name": "ipython",
        "version": 3
      },
      "file_extension": ".py",
      "mimetype": "text/x-python",
      "name": "python",
      "nbconvert_exporter": "python",
      "pygments_lexer": "ipython3",
      "version": "3.12.3"
    }
  },
  "nbformat": 4,
  "nbformat_minor": 0
}
